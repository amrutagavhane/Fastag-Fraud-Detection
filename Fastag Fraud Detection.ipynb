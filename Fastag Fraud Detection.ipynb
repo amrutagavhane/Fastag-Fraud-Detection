{
 "cells": [
  {
   "cell_type": "markdown",
   "id": "7d15494c",
   "metadata": {},
   "source": [
    "# Problem Statement"
   ]
  },
  {
   "cell_type": "markdown",
   "id": "3f66347b",
   "metadata": {},
   "source": [
    "Focuses on leveraging machine learning classification techniques to develop an \n",
    "effective fraud detection system for Fastag transactions. The dataset comprises key features such as \n",
    "transaction details, vehicle information, geographical location, and transaction amounts. The goal is to \n",
    "create a robust model that can accurately identify instances of fraudulent activity, ensuring the integrity \n",
    "and security of Fastag transactions.\n"
   ]
  },
  {
   "cell_type": "markdown",
   "id": "cb04d60e",
   "metadata": {},
   "source": [
    "# Main Goal"
   ]
  },
  {
   "cell_type": "markdown",
   "id": "6740dd09",
   "metadata": {},
   "source": [
    "The main goal is to develop a robust fraud detection system for Fastag transactions using machine learning. By analyzing transaction details, vehicle information, location, and amounts, the system aims to accurately identify fraudulent activities, ensuring the security and integrity of Fastag transactions."
   ]
  },
  {
   "cell_type": "code",
   "execution_count": 3,
   "id": "cd9faa4f",
   "metadata": {},
   "outputs": [],
   "source": [
    "import pandas as pd\n",
    "import numpy as np\n",
    "import matplotlib.pyplot as plt\n",
    "import seaborn as sns\n",
    "from sklearn.preprocessing import OneHotEncoder, LabelEncoder\n",
    "from sklearn.model_selection import train_test_split\n",
    "from sklearn.ensemble import RandomForestClassifier\n",
    "from sklearn.impute import SimpleImputer\n",
    "from sklearn.linear_model import LogisticRegression\n",
    "from sklearn.metrics import accuracy_score, classification_report\n",
    "from sklearn.model_selection import cross_val_score, StratifiedKFold\n",
    "from sklearn.metrics import accuracy_score, precision_score, recall_score, f1_score\n",
    "from sklearn.metrics import confusion_matrix, roc_curve, auc"
   ]
  },
  {
   "cell_type": "code",
   "execution_count": 4,
   "id": "90f686a4",
   "metadata": {},
   "outputs": [
    {
     "data": {
      "text/html": [
       "<div>\n",
       "<style scoped>\n",
       "    .dataframe tbody tr th:only-of-type {\n",
       "        vertical-align: middle;\n",
       "    }\n",
       "\n",
       "    .dataframe tbody tr th {\n",
       "        vertical-align: top;\n",
       "    }\n",
       "\n",
       "    .dataframe thead th {\n",
       "        text-align: right;\n",
       "    }\n",
       "</style>\n",
       "<table border=\"1\" class=\"dataframe\">\n",
       "  <thead>\n",
       "    <tr style=\"text-align: right;\">\n",
       "      <th></th>\n",
       "      <th>Transaction_ID</th>\n",
       "      <th>Timestamp</th>\n",
       "      <th>Vehicle_Type</th>\n",
       "      <th>FastagID</th>\n",
       "      <th>TollBoothID</th>\n",
       "      <th>Lane_Type</th>\n",
       "      <th>Vehicle_Dimensions</th>\n",
       "      <th>Transaction_Amount</th>\n",
       "      <th>Amount_paid</th>\n",
       "      <th>Geographical_Location</th>\n",
       "      <th>Vehicle_Speed</th>\n",
       "      <th>Vehicle_Plate_Number</th>\n",
       "      <th>Fraud_indicator</th>\n",
       "    </tr>\n",
       "  </thead>\n",
       "  <tbody>\n",
       "    <tr>\n",
       "      <th>0</th>\n",
       "      <td>1</td>\n",
       "      <td>1/6/2023 11:20</td>\n",
       "      <td>Bus</td>\n",
       "      <td>FTG-001-ABC-121</td>\n",
       "      <td>A-101</td>\n",
       "      <td>Express</td>\n",
       "      <td>Large</td>\n",
       "      <td>350</td>\n",
       "      <td>120</td>\n",
       "      <td>13.059816123454882, 77.77068662374292</td>\n",
       "      <td>65</td>\n",
       "      <td>KA11AB1234</td>\n",
       "      <td>Fraud</td>\n",
       "    </tr>\n",
       "    <tr>\n",
       "      <th>1</th>\n",
       "      <td>2</td>\n",
       "      <td>1/7/2023 14:55</td>\n",
       "      <td>Car</td>\n",
       "      <td>FTG-002-XYZ-451</td>\n",
       "      <td>B-102</td>\n",
       "      <td>Regular</td>\n",
       "      <td>Small</td>\n",
       "      <td>120</td>\n",
       "      <td>100</td>\n",
       "      <td>13.059816123454882, 77.77068662374292</td>\n",
       "      <td>78</td>\n",
       "      <td>KA66CD5678</td>\n",
       "      <td>Fraud</td>\n",
       "    </tr>\n",
       "    <tr>\n",
       "      <th>2</th>\n",
       "      <td>3</td>\n",
       "      <td>1/8/2023 18:25</td>\n",
       "      <td>Motorcycle</td>\n",
       "      <td>NaN</td>\n",
       "      <td>D-104</td>\n",
       "      <td>Regular</td>\n",
       "      <td>Small</td>\n",
       "      <td>0</td>\n",
       "      <td>0</td>\n",
       "      <td>13.059816123454882, 77.77068662374292</td>\n",
       "      <td>53</td>\n",
       "      <td>KA88EF9012</td>\n",
       "      <td>Not Fraud</td>\n",
       "    </tr>\n",
       "  </tbody>\n",
       "</table>\n",
       "</div>"
      ],
      "text/plain": [
       "   Transaction_ID       Timestamp Vehicle_Type         FastagID TollBoothID  \\\n",
       "0               1  1/6/2023 11:20         Bus   FTG-001-ABC-121       A-101   \n",
       "1               2  1/7/2023 14:55          Car  FTG-002-XYZ-451       B-102   \n",
       "2               3  1/8/2023 18:25   Motorcycle              NaN       D-104   \n",
       "\n",
       "  Lane_Type Vehicle_Dimensions  Transaction_Amount  Amount_paid  \\\n",
       "0   Express              Large                 350          120   \n",
       "1   Regular              Small                 120          100   \n",
       "2   Regular              Small                   0            0   \n",
       "\n",
       "                   Geographical_Location  Vehicle_Speed Vehicle_Plate_Number  \\\n",
       "0  13.059816123454882, 77.77068662374292             65           KA11AB1234   \n",
       "1  13.059816123454882, 77.77068662374292             78           KA66CD5678   \n",
       "2  13.059816123454882, 77.77068662374292             53           KA88EF9012   \n",
       "\n",
       "  Fraud_indicator  \n",
       "0           Fraud  \n",
       "1           Fraud  \n",
       "2       Not Fraud  "
      ]
     },
     "execution_count": 4,
     "metadata": {},
     "output_type": "execute_result"
    }
   ],
   "source": [
    "df = pd.read_csv('FastagFraudDetection.csv')\n",
    "df.head(3)"
   ]
  },
  {
   "cell_type": "code",
   "execution_count": 5,
   "id": "05ea03cf",
   "metadata": {},
   "outputs": [
    {
     "data": {
      "text/plain": [
       "Transaction_ID             0\n",
       "Timestamp                  0\n",
       "Vehicle_Type               0\n",
       "FastagID                 549\n",
       "TollBoothID                0\n",
       "Lane_Type                  0\n",
       "Vehicle_Dimensions         0\n",
       "Transaction_Amount         0\n",
       "Amount_paid                0\n",
       "Geographical_Location      0\n",
       "Vehicle_Speed              0\n",
       "Vehicle_Plate_Number       0\n",
       "Fraud_indicator            0\n",
       "dtype: int64"
      ]
     },
     "execution_count": 5,
     "metadata": {},
     "output_type": "execute_result"
    }
   ],
   "source": [
    "df.isnull().sum()"
   ]
  },
  {
   "cell_type": "code",
   "execution_count": 6,
   "id": "e95300d8",
   "metadata": {},
   "outputs": [
    {
     "name": "stdout",
     "output_type": "stream",
     "text": [
      "<class 'pandas.core.frame.DataFrame'>\n",
      "RangeIndex: 5000 entries, 0 to 4999\n",
      "Data columns (total 13 columns):\n",
      " #   Column                 Non-Null Count  Dtype \n",
      "---  ------                 --------------  ----- \n",
      " 0   Transaction_ID         5000 non-null   int64 \n",
      " 1   Timestamp              5000 non-null   object\n",
      " 2   Vehicle_Type           5000 non-null   object\n",
      " 3   FastagID               4451 non-null   object\n",
      " 4   TollBoothID            5000 non-null   object\n",
      " 5   Lane_Type              5000 non-null   object\n",
      " 6   Vehicle_Dimensions     5000 non-null   object\n",
      " 7   Transaction_Amount     5000 non-null   int64 \n",
      " 8   Amount_paid            5000 non-null   int64 \n",
      " 9   Geographical_Location  5000 non-null   object\n",
      " 10  Vehicle_Speed          5000 non-null   int64 \n",
      " 11  Vehicle_Plate_Number   5000 non-null   object\n",
      " 12  Fraud_indicator        5000 non-null   object\n",
      "dtypes: int64(4), object(9)\n",
      "memory usage: 507.9+ KB\n"
     ]
    }
   ],
   "source": [
    "df.info()"
   ]
  },
  {
   "cell_type": "code",
   "execution_count": 7,
   "id": "5036a7ed",
   "metadata": {},
   "outputs": [],
   "source": [
    "df.dropna(inplace=True)"
   ]
  },
  {
   "cell_type": "code",
   "execution_count": 8,
   "id": "53ea8853",
   "metadata": {},
   "outputs": [
    {
     "data": {
      "text/plain": [
       "Transaction_ID           0\n",
       "Timestamp                0\n",
       "Vehicle_Type             0\n",
       "FastagID                 0\n",
       "TollBoothID              0\n",
       "Lane_Type                0\n",
       "Vehicle_Dimensions       0\n",
       "Transaction_Amount       0\n",
       "Amount_paid              0\n",
       "Geographical_Location    0\n",
       "Vehicle_Speed            0\n",
       "Vehicle_Plate_Number     0\n",
       "Fraud_indicator          0\n",
       "dtype: int64"
      ]
     },
     "execution_count": 8,
     "metadata": {},
     "output_type": "execute_result"
    }
   ],
   "source": [
    "df.isnull().sum()"
   ]
  },
  {
   "cell_type": "code",
   "execution_count": 9,
   "id": "73c63594",
   "metadata": {},
   "outputs": [],
   "source": [
    "df=df.set_index('Transaction_ID')"
   ]
  },
  {
   "cell_type": "code",
   "execution_count": 10,
   "id": "4a2d3bd7",
   "metadata": {},
   "outputs": [
    {
     "data": {
      "text/html": [
       "<div>\n",
       "<style scoped>\n",
       "    .dataframe tbody tr th:only-of-type {\n",
       "        vertical-align: middle;\n",
       "    }\n",
       "\n",
       "    .dataframe tbody tr th {\n",
       "        vertical-align: top;\n",
       "    }\n",
       "\n",
       "    .dataframe thead th {\n",
       "        text-align: right;\n",
       "    }\n",
       "</style>\n",
       "<table border=\"1\" class=\"dataframe\">\n",
       "  <thead>\n",
       "    <tr style=\"text-align: right;\">\n",
       "      <th></th>\n",
       "      <th>count</th>\n",
       "      <th>mean</th>\n",
       "      <th>std</th>\n",
       "      <th>min</th>\n",
       "      <th>25%</th>\n",
       "      <th>50%</th>\n",
       "      <th>75%</th>\n",
       "      <th>max</th>\n",
       "    </tr>\n",
       "  </thead>\n",
       "  <tbody>\n",
       "    <tr>\n",
       "      <th>Transaction_Amount</th>\n",
       "      <td>4451.0</td>\n",
       "      <td>180.927881</td>\n",
       "      <td>103.004437</td>\n",
       "      <td>0.0</td>\n",
       "      <td>110.0</td>\n",
       "      <td>140.0</td>\n",
       "      <td>300.0</td>\n",
       "      <td>350.0</td>\n",
       "    </tr>\n",
       "    <tr>\n",
       "      <th>Amount_paid</th>\n",
       "      <td>4451.0</td>\n",
       "      <td>158.684565</td>\n",
       "      <td>99.857565</td>\n",
       "      <td>0.0</td>\n",
       "      <td>100.0</td>\n",
       "      <td>120.0</td>\n",
       "      <td>180.0</td>\n",
       "      <td>350.0</td>\n",
       "    </tr>\n",
       "    <tr>\n",
       "      <th>Vehicle_Speed</th>\n",
       "      <td>4451.0</td>\n",
       "      <td>67.884745</td>\n",
       "      <td>16.632295</td>\n",
       "      <td>10.0</td>\n",
       "      <td>55.0</td>\n",
       "      <td>67.0</td>\n",
       "      <td>82.0</td>\n",
       "      <td>118.0</td>\n",
       "    </tr>\n",
       "  </tbody>\n",
       "</table>\n",
       "</div>"
      ],
      "text/plain": [
       "                     count        mean         std   min    25%    50%    75%  \\\n",
       "Transaction_Amount  4451.0  180.927881  103.004437   0.0  110.0  140.0  300.0   \n",
       "Amount_paid         4451.0  158.684565   99.857565   0.0  100.0  120.0  180.0   \n",
       "Vehicle_Speed       4451.0   67.884745   16.632295  10.0   55.0   67.0   82.0   \n",
       "\n",
       "                      max  \n",
       "Transaction_Amount  350.0  \n",
       "Amount_paid         350.0  \n",
       "Vehicle_Speed       118.0  "
      ]
     },
     "execution_count": 10,
     "metadata": {},
     "output_type": "execute_result"
    }
   ],
   "source": [
    "df.describe().T"
   ]
  },
  {
   "cell_type": "code",
   "execution_count": 11,
   "id": "722cb86d",
   "metadata": {},
   "outputs": [
    {
     "data": {
      "image/png": "[encoded data removed]",
      "text/plain": [
       "<Figure size 360x288 with 1 Axes>"
      ]
     },
     "metadata": {
      "needs_background": "light"
     },
     "output_type": "display_data"
    }
   ],
   "source": [
    "plt.figure(figsize=(5,4))\n",
    "\n",
    "plt.boxplot(df['Transaction_Amount'])\n",
    "plt.xlabel('Transaction Amount')\n",
    "plt.ylabel('Frequency')\n",
    "plt.title('Boxplot of Transaction Amount')\n",
    "\n",
    "\n",
    "plt.tight_layout()\n",
    "plt.show()"
   ]
  },
  {
   "cell_type": "markdown",
   "id": "a49b265c",
   "metadata": {},
   "source": [
    "There is no outliers"
   ]
  },
  {
   "cell_type": "code",
   "execution_count": 12,
   "id": "3f95c556",
   "metadata": {},
   "outputs": [
    {
     "data": {
      "image/png": "[encoded data removed]",
      "text/plain": [
       "<Figure size 432x288 with 1 Axes>"
      ]
     },
     "metadata": {
      "needs_background": "light"
     },
     "output_type": "display_data"
    }
   ],
   "source": [
    "avg_transaction_amounts = df.groupby('Vehicle_Type')['Transaction_Amount'].mean().reset_index()\n",
    "\n",
    "plt.figure(figsize=(6, 4))\n",
    "sns.barplot(x='Vehicle_Type', y='Transaction_Amount', data=avg_transaction_amounts, color='#6A5ACD')\n",
    "plt.xlabel('Vehicle Category')\n",
    "plt.ylabel('Average Transaction Amount')\n",
    "plt.title('Average Transaction Amount by Vehicle Category')\n",
    "plt.xticks(rotation=45, ha='right')\n",
    "plt.tight_layout()\n",
    "plt.show()"
   ]
  },
  {
   "cell_type": "markdown",
   "id": "9067a74b",
   "metadata": {},
   "source": [
    "Buses and trucks are often used for commercial purposes, such as transporting goods or passengers, while cars and motorcycles are typically used for personal transportation. The higher transaction amounts for buses and trucks could indicate increased toll charges for commercial vehicles compared to personal vehicles."
   ]
  },
  {
   "cell_type": "code",
   "execution_count": 13,
   "id": "a64410da",
   "metadata": {},
   "outputs": [
    {
     "data": {
      "image/png": "[encoded data removed]",
      "text/plain": [
       "<Figure size 432x288 with 1 Axes>"
      ]
     },
     "metadata": {},
     "output_type": "display_data"
    }
   ],
   "source": [
    "plt.figure(figsize=(6,4))\n",
    "df['Fraud_indicator'].value_counts().plot(kind='pie', autopct='%1.1f%%', colors=['#CD5A6A', '#6ACD5A'])\n",
    "plt.title('Proportion of Fraudulent Transactions')\n",
    "plt.ylabel('')\n",
    "plt.show()\n"
   ]
  },
  {
   "cell_type": "code",
   "execution_count": 14,
   "id": "0f89c2d9",
   "metadata": {},
   "outputs": [
    {
     "data": {
      "image/png": "[encoded data removed]",
      "text/plain": [
       "<Figure size 432x288 with 1 Axes>"
      ]
     },
     "metadata": {
      "needs_background": "light"
     },
     "output_type": "display_data"
    }
   ],
   "source": [
    "plt.figure(figsize=(6,4))\n",
    "sns.kdeplot(data=df['Transaction_Amount'], fill=True, label='Transaction Amount')\n",
    "sns.kdeplot(data=df['Amount_paid'], fill=True, label='Amount Paid')\n",
    "plt.xlabel('Amount')\n",
    "plt.ylabel('Density')\n",
    "plt.title('Kernel Density Estimation of Transaction Amount and Amount Paid')\n",
    "plt.legend()\n",
    "plt.show()"
   ]
  },
  {
   "cell_type": "code",
   "execution_count": 15,
   "id": "8ba37a5c",
   "metadata": {},
   "outputs": [
    {
     "data": {
      "image/png": "[encoded data removed]",
      "text/plain": [
       "<Figure size 720x288 with 1 Axes>"
      ]
     },
     "metadata": {
      "needs_background": "light"
     },
     "output_type": "display_data"
    }
   ],
   "source": [
    "df['Timestamp'] = pd.to_datetime(df['Timestamp'])\n",
    "\n",
    "# Extract hour from the timestamp\n",
    "df['Hour'] = df['Timestamp'].dt.hour\n",
    "\n",
    "# Filter fraudulent transactions\n",
    "fraudulent_transactions = df[df['Fraud_indicator'] == 'Fraud']\n",
    "\n",
    "# Group by hour and sum transaction amount\n",
    "fraudulent_amount_by_hour = fraudulent_transactions.groupby('Hour')['Transaction_Amount'].sum()\n",
    "\n",
    "plt.figure(figsize=(10, 4))\n",
    "fraudulent_amount_by_hour.plot(marker='o', linestyle='-')\n",
    "plt.title('Fraud Amount Throughout the Day')\n",
    "plt.xlabel('Hour of the Day')\n",
    "plt.ylabel('Total Fraud Amount')\n",
    "plt.xticks(range(24))\n",
    "plt.show()\n",
    "     "
   ]
  },
  {
   "cell_type": "markdown",
   "id": "6419cac5",
   "metadata": {},
   "source": [
    "Fraudulent activity peaks around 6 AM, possibly due to the start of the day or commuting hours.\n",
    "\n",
    "Another peak is observed around 4 PM, likely linked to the end of the workday or rush hour traffic."
   ]
  },
  {
   "cell_type": "markdown",
   "id": "8c413906",
   "metadata": {},
   "source": [
    "# Feature Engineering"
   ]
  },
  {
   "cell_type": "code",
   "execution_count": 16,
   "id": "cf6ce1d4",
   "metadata": {},
   "outputs": [],
   "source": [
    "df['Day']=df['Timestamp'].dt.dayofweek\n",
    "\n",
    "df['Month']=df['Timestamp'].dt.month"
   ]
  },
  {
   "cell_type": "markdown",
   "id": "a01dbbff",
   "metadata": {},
   "source": [
    "#### Transaction Behavior Features"
   ]
  },
  {
   "cell_type": "code",
   "execution_count": 17,
   "id": "1988dc7a",
   "metadata": {},
   "outputs": [],
   "source": [
    "# Calculate the difference between \"Transaction_Amount\" and \"Amount_paid\"\n",
    "df['Amount_Difference'] = df['Transaction_Amount'] - df['Amount_paid']\n",
    "\n",
    "# Calculate the ratio of \"Amount_paid\" to \"Transaction_Amount\"\n",
    "df['Payment_Ratio'] = df['Amount_paid'] / df['Transaction_Amount']\n"
   ]
  },
  {
   "cell_type": "code",
   "execution_count": 18,
   "id": "cfe372eb",
   "metadata": {},
   "outputs": [
    {
     "data": {
      "text/html": [
       "<div>\n",
       "<style scoped>\n",
       "    .dataframe tbody tr th:only-of-type {\n",
       "        vertical-align: middle;\n",
       "    }\n",
       "\n",
       "    .dataframe tbody tr th {\n",
       "        vertical-align: top;\n",
       "    }\n",
       "\n",
       "    .dataframe thead th {\n",
       "        text-align: right;\n",
       "    }\n",
       "</style>\n",
       "<table border=\"1\" class=\"dataframe\">\n",
       "  <thead>\n",
       "    <tr style=\"text-align: right;\">\n",
       "      <th></th>\n",
       "      <th>Timestamp</th>\n",
       "      <th>Vehicle_Type</th>\n",
       "      <th>FastagID</th>\n",
       "      <th>TollBoothID</th>\n",
       "      <th>Lane_Type</th>\n",
       "      <th>Vehicle_Dimensions</th>\n",
       "      <th>Transaction_Amount</th>\n",
       "      <th>Amount_paid</th>\n",
       "      <th>Geographical_Location</th>\n",
       "      <th>Vehicle_Speed</th>\n",
       "      <th>Vehicle_Plate_Number</th>\n",
       "      <th>Fraud_indicator</th>\n",
       "      <th>Hour</th>\n",
       "      <th>Day</th>\n",
       "      <th>Month</th>\n",
       "      <th>Amount_Difference</th>\n",
       "      <th>Payment_Ratio</th>\n",
       "    </tr>\n",
       "    <tr>\n",
       "      <th>Transaction_ID</th>\n",
       "      <th></th>\n",
       "      <th></th>\n",
       "      <th></th>\n",
       "      <th></th>\n",
       "      <th></th>\n",
       "      <th></th>\n",
       "      <th></th>\n",
       "      <th></th>\n",
       "      <th></th>\n",
       "      <th></th>\n",
       "      <th></th>\n",
       "      <th></th>\n",
       "      <th></th>\n",
       "      <th></th>\n",
       "      <th></th>\n",
       "      <th></th>\n",
       "      <th></th>\n",
       "    </tr>\n",
       "  </thead>\n",
       "  <tbody>\n",
       "    <tr>\n",
       "      <th>1</th>\n",
       "      <td>2023-01-06 11:20:00</td>\n",
       "      <td>Bus</td>\n",
       "      <td>FTG-001-ABC-121</td>\n",
       "      <td>A-101</td>\n",
       "      <td>Express</td>\n",
       "      <td>Large</td>\n",
       "      <td>350</td>\n",
       "      <td>120</td>\n",
       "      <td>13.059816123454882, 77.77068662374292</td>\n",
       "      <td>65</td>\n",
       "      <td>KA11AB1234</td>\n",
       "      <td>Fraud</td>\n",
       "      <td>11</td>\n",
       "      <td>4</td>\n",
       "      <td>1</td>\n",
       "      <td>230</td>\n",
       "      <td>0.342857</td>\n",
       "    </tr>\n",
       "    <tr>\n",
       "      <th>2</th>\n",
       "      <td>2023-01-07 14:55:00</td>\n",
       "      <td>Car</td>\n",
       "      <td>FTG-002-XYZ-451</td>\n",
       "      <td>B-102</td>\n",
       "      <td>Regular</td>\n",
       "      <td>Small</td>\n",
       "      <td>120</td>\n",
       "      <td>100</td>\n",
       "      <td>13.059816123454882, 77.77068662374292</td>\n",
       "      <td>78</td>\n",
       "      <td>KA66CD5678</td>\n",
       "      <td>Fraud</td>\n",
       "      <td>14</td>\n",
       "      <td>5</td>\n",
       "      <td>1</td>\n",
       "      <td>20</td>\n",
       "      <td>0.833333</td>\n",
       "    </tr>\n",
       "  </tbody>\n",
       "</table>\n",
       "</div>"
      ],
      "text/plain": [
       "                         Timestamp Vehicle_Type         FastagID TollBoothID  \\\n",
       "Transaction_ID                                                                 \n",
       "1              2023-01-06 11:20:00         Bus   FTG-001-ABC-121       A-101   \n",
       "2              2023-01-07 14:55:00          Car  FTG-002-XYZ-451       B-102   \n",
       "\n",
       "               Lane_Type Vehicle_Dimensions  Transaction_Amount  Amount_paid  \\\n",
       "Transaction_ID                                                                 \n",
       "1                Express              Large                 350          120   \n",
       "2                Regular              Small                 120          100   \n",
       "\n",
       "                                Geographical_Location  Vehicle_Speed  \\\n",
       "Transaction_ID                                                         \n",
       "1               13.059816123454882, 77.77068662374292             65   \n",
       "2               13.059816123454882, 77.77068662374292             78   \n",
       "\n",
       "               Vehicle_Plate_Number Fraud_indicator  Hour  Day  Month  \\\n",
       "Transaction_ID                                                          \n",
       "1                        KA11AB1234           Fraud    11    4      1   \n",
       "2                        KA66CD5678           Fraud    14    5      1   \n",
       "\n",
       "                Amount_Difference  Payment_Ratio  \n",
       "Transaction_ID                                    \n",
       "1                             230       0.342857  \n",
       "2                              20       0.833333  "
      ]
     },
     "execution_count": 18,
     "metadata": {},
     "output_type": "execute_result"
    }
   ],
   "source": [
    "df.head(2)"
   ]
  },
  {
   "cell_type": "code",
   "execution_count": null,
   "id": "0ac207bb",
   "metadata": {},
   "outputs": [],
   "source": []
  },
  {
   "cell_type": "code",
   "execution_count": null,
   "id": "409ea4cc",
   "metadata": {},
   "outputs": [],
   "source": []
  },
  {
   "cell_type": "markdown",
   "id": "34817d09",
   "metadata": {},
   "source": [
    "# Encoding categorical features"
   ]
  },
  {
   "cell_type": "code",
   "execution_count": 19,
   "id": "db3caae8",
   "metadata": {},
   "outputs": [],
   "source": [
    "df = pd.get_dummies(df, columns=['Vehicle_Type', 'Lane_Type', 'Vehicle_Dimensions'])"
   ]
  },
  {
   "cell_type": "code",
   "execution_count": 20,
   "id": "152a1de7",
   "metadata": {},
   "outputs": [],
   "source": [
    "label_encoder = LabelEncoder()\n",
    "df['Fraud_indicator'] = label_encoder.fit_transform(df['Fraud_indicator'])"
   ]
  },
  {
   "cell_type": "code",
   "execution_count": 21,
   "id": "ac5caf06",
   "metadata": {},
   "outputs": [
    {
     "data": {
      "text/html": [
       "<div>\n",
       "<style scoped>\n",
       "    .dataframe tbody tr th:only-of-type {\n",
       "        vertical-align: middle;\n",
       "    }\n",
       "\n",
       "    .dataframe tbody tr th {\n",
       "        vertical-align: top;\n",
       "    }\n",
       "\n",
       "    .dataframe thead th {\n",
       "        text-align: right;\n",
       "    }\n",
       "</style>\n",
       "<table border=\"1\" class=\"dataframe\">\n",
       "  <thead>\n",
       "    <tr style=\"text-align: right;\">\n",
       "      <th></th>\n",
       "      <th>Timestamp</th>\n",
       "      <th>FastagID</th>\n",
       "      <th>TollBoothID</th>\n",
       "      <th>Transaction_Amount</th>\n",
       "      <th>Amount_paid</th>\n",
       "      <th>Geographical_Location</th>\n",
       "      <th>Vehicle_Speed</th>\n",
       "      <th>Vehicle_Plate_Number</th>\n",
       "      <th>Fraud_indicator</th>\n",
       "      <th>Hour</th>\n",
       "      <th>...</th>\n",
       "      <th>Vehicle_Type_Motorcycle</th>\n",
       "      <th>Vehicle_Type_SUV</th>\n",
       "      <th>Vehicle_Type_Sedan</th>\n",
       "      <th>Vehicle_Type_Truck</th>\n",
       "      <th>Vehicle_Type_Van</th>\n",
       "      <th>Lane_Type_Express</th>\n",
       "      <th>Lane_Type_Regular</th>\n",
       "      <th>Vehicle_Dimensions_Large</th>\n",
       "      <th>Vehicle_Dimensions_Medium</th>\n",
       "      <th>Vehicle_Dimensions_Small</th>\n",
       "    </tr>\n",
       "    <tr>\n",
       "      <th>Transaction_ID</th>\n",
       "      <th></th>\n",
       "      <th></th>\n",
       "      <th></th>\n",
       "      <th></th>\n",
       "      <th></th>\n",
       "      <th></th>\n",
       "      <th></th>\n",
       "      <th></th>\n",
       "      <th></th>\n",
       "      <th></th>\n",
       "      <th></th>\n",
       "      <th></th>\n",
       "      <th></th>\n",
       "      <th></th>\n",
       "      <th></th>\n",
       "      <th></th>\n",
       "      <th></th>\n",
       "      <th></th>\n",
       "      <th></th>\n",
       "      <th></th>\n",
       "      <th></th>\n",
       "    </tr>\n",
       "  </thead>\n",
       "  <tbody>\n",
       "    <tr>\n",
       "      <th>1</th>\n",
       "      <td>2023-01-06 11:20:00</td>\n",
       "      <td>FTG-001-ABC-121</td>\n",
       "      <td>A-101</td>\n",
       "      <td>350</td>\n",
       "      <td>120</td>\n",
       "      <td>13.059816123454882, 77.77068662374292</td>\n",
       "      <td>65</td>\n",
       "      <td>KA11AB1234</td>\n",
       "      <td>0</td>\n",
       "      <td>11</td>\n",
       "      <td>...</td>\n",
       "      <td>0</td>\n",
       "      <td>0</td>\n",
       "      <td>0</td>\n",
       "      <td>0</td>\n",
       "      <td>0</td>\n",
       "      <td>1</td>\n",
       "      <td>0</td>\n",
       "      <td>1</td>\n",
       "      <td>0</td>\n",
       "      <td>0</td>\n",
       "    </tr>\n",
       "    <tr>\n",
       "      <th>2</th>\n",
       "      <td>2023-01-07 14:55:00</td>\n",
       "      <td>FTG-002-XYZ-451</td>\n",
       "      <td>B-102</td>\n",
       "      <td>120</td>\n",
       "      <td>100</td>\n",
       "      <td>13.059816123454882, 77.77068662374292</td>\n",
       "      <td>78</td>\n",
       "      <td>KA66CD5678</td>\n",
       "      <td>0</td>\n",
       "      <td>14</td>\n",
       "      <td>...</td>\n",
       "      <td>0</td>\n",
       "      <td>0</td>\n",
       "      <td>0</td>\n",
       "      <td>0</td>\n",
       "      <td>0</td>\n",
       "      <td>0</td>\n",
       "      <td>1</td>\n",
       "      <td>0</td>\n",
       "      <td>0</td>\n",
       "      <td>1</td>\n",
       "    </tr>\n",
       "    <tr>\n",
       "      <th>4</th>\n",
       "      <td>2023-01-09 02:05:00</td>\n",
       "      <td>FTG-044-LMN-322</td>\n",
       "      <td>C-103</td>\n",
       "      <td>350</td>\n",
       "      <td>120</td>\n",
       "      <td>13.059816123454882, 77.77068662374292</td>\n",
       "      <td>92</td>\n",
       "      <td>KA11GH3456</td>\n",
       "      <td>0</td>\n",
       "      <td>2</td>\n",
       "      <td>...</td>\n",
       "      <td>0</td>\n",
       "      <td>0</td>\n",
       "      <td>0</td>\n",
       "      <td>1</td>\n",
       "      <td>0</td>\n",
       "      <td>0</td>\n",
       "      <td>1</td>\n",
       "      <td>1</td>\n",
       "      <td>0</td>\n",
       "      <td>0</td>\n",
       "    </tr>\n",
       "  </tbody>\n",
       "</table>\n",
       "<p>3 rows × 26 columns</p>\n",
       "</div>"
      ],
      "text/plain": [
       "                         Timestamp         FastagID TollBoothID  \\\n",
       "Transaction_ID                                                    \n",
       "1              2023-01-06 11:20:00  FTG-001-ABC-121       A-101   \n",
       "2              2023-01-07 14:55:00  FTG-002-XYZ-451       B-102   \n",
       "4              2023-01-09 02:05:00  FTG-044-LMN-322       C-103   \n",
       "\n",
       "                Transaction_Amount  Amount_paid  \\\n",
       "Transaction_ID                                    \n",
       "1                              350          120   \n",
       "2                              120          100   \n",
       "4                              350          120   \n",
       "\n",
       "                                Geographical_Location  Vehicle_Speed  \\\n",
       "Transaction_ID                                                         \n",
       "1               13.059816123454882, 77.77068662374292             65   \n",
       "2               13.059816123454882, 77.77068662374292             78   \n",
       "4               13.059816123454882, 77.77068662374292             92   \n",
       "\n",
       "               Vehicle_Plate_Number  Fraud_indicator  Hour  ...  \\\n",
       "Transaction_ID                                              ...   \n",
       "1                        KA11AB1234                0    11  ...   \n",
       "2                        KA66CD5678                0    14  ...   \n",
       "4                        KA11GH3456                0     2  ...   \n",
       "\n",
       "                Vehicle_Type_Motorcycle  Vehicle_Type_SUV  Vehicle_Type_Sedan  \\\n",
       "Transaction_ID                                                                  \n",
       "1                                     0                 0                   0   \n",
       "2                                     0                 0                   0   \n",
       "4                                     0                 0                   0   \n",
       "\n",
       "                Vehicle_Type_Truck  Vehicle_Type_Van  Lane_Type_Express  \\\n",
       "Transaction_ID                                                            \n",
       "1                                0                 0                  1   \n",
       "2                                0                 0                  0   \n",
       "4                                1                 0                  0   \n",
       "\n",
       "                Lane_Type_Regular  Vehicle_Dimensions_Large  \\\n",
       "Transaction_ID                                                \n",
       "1                               0                         1   \n",
       "2                               1                         0   \n",
       "4                               1                         1   \n",
       "\n",
       "                Vehicle_Dimensions_Medium  Vehicle_Dimensions_Small  \n",
       "Transaction_ID                                                       \n",
       "1                                       0                         0  \n",
       "2                                       0                         1  \n",
       "4                                       0                         0  \n",
       "\n",
       "[3 rows x 26 columns]"
      ]
     },
     "execution_count": 21,
     "metadata": {},
     "output_type": "execute_result"
    }
   ],
   "source": [
    "df.head(3)"
   ]
  },
  {
   "cell_type": "code",
   "execution_count": 22,
   "id": "6c6630dc",
   "metadata": {},
   "outputs": [],
   "source": [
    "# Extract latitude and longitude from 'Geographical_Location'\n",
    "df['Latitude'] = df['Geographical_Location'].apply(lambda x: float(x.split(',')[0]))\n",
    "df['Longitude'] = df['Geographical_Location'].apply(lambda x: float(x.split(',')[1]))\n",
    "\n",
    "# Drop the original 'Geographical_Location' column\n",
    "df.drop(columns=['Geographical_Location'], inplace=True)"
   ]
  },
  {
   "cell_type": "code",
   "execution_count": 23,
   "id": "b74da1fa",
   "metadata": {},
   "outputs": [
    {
     "data": {
      "text/html": [
       "<div>\n",
       "<style scoped>\n",
       "    .dataframe tbody tr th:only-of-type {\n",
       "        vertical-align: middle;\n",
       "    }\n",
       "\n",
       "    .dataframe tbody tr th {\n",
       "        vertical-align: top;\n",
       "    }\n",
       "\n",
       "    .dataframe thead th {\n",
       "        text-align: right;\n",
       "    }\n",
       "</style>\n",
       "<table border=\"1\" class=\"dataframe\">\n",
       "  <thead>\n",
       "    <tr style=\"text-align: right;\">\n",
       "      <th></th>\n",
       "      <th>Timestamp</th>\n",
       "      <th>FastagID</th>\n",
       "      <th>TollBoothID</th>\n",
       "      <th>Transaction_Amount</th>\n",
       "      <th>Amount_paid</th>\n",
       "      <th>Vehicle_Speed</th>\n",
       "      <th>Vehicle_Plate_Number</th>\n",
       "      <th>Fraud_indicator</th>\n",
       "      <th>Hour</th>\n",
       "      <th>Day</th>\n",
       "      <th>...</th>\n",
       "      <th>Vehicle_Type_Sedan</th>\n",
       "      <th>Vehicle_Type_Truck</th>\n",
       "      <th>Vehicle_Type_Van</th>\n",
       "      <th>Lane_Type_Express</th>\n",
       "      <th>Lane_Type_Regular</th>\n",
       "      <th>Vehicle_Dimensions_Large</th>\n",
       "      <th>Vehicle_Dimensions_Medium</th>\n",
       "      <th>Vehicle_Dimensions_Small</th>\n",
       "      <th>Latitude</th>\n",
       "      <th>Longitude</th>\n",
       "    </tr>\n",
       "    <tr>\n",
       "      <th>Transaction_ID</th>\n",
       "      <th></th>\n",
       "      <th></th>\n",
       "      <th></th>\n",
       "      <th></th>\n",
       "      <th></th>\n",
       "      <th></th>\n",
       "      <th></th>\n",
       "      <th></th>\n",
       "      <th></th>\n",
       "      <th></th>\n",
       "      <th></th>\n",
       "      <th></th>\n",
       "      <th></th>\n",
       "      <th></th>\n",
       "      <th></th>\n",
       "      <th></th>\n",
       "      <th></th>\n",
       "      <th></th>\n",
       "      <th></th>\n",
       "      <th></th>\n",
       "      <th></th>\n",
       "    </tr>\n",
       "  </thead>\n",
       "  <tbody>\n",
       "    <tr>\n",
       "      <th>1</th>\n",
       "      <td>2023-01-06 11:20:00</td>\n",
       "      <td>FTG-001-ABC-121</td>\n",
       "      <td>A-101</td>\n",
       "      <td>350</td>\n",
       "      <td>120</td>\n",
       "      <td>65</td>\n",
       "      <td>KA11AB1234</td>\n",
       "      <td>0</td>\n",
       "      <td>11</td>\n",
       "      <td>4</td>\n",
       "      <td>...</td>\n",
       "      <td>0</td>\n",
       "      <td>0</td>\n",
       "      <td>0</td>\n",
       "      <td>1</td>\n",
       "      <td>0</td>\n",
       "      <td>1</td>\n",
       "      <td>0</td>\n",
       "      <td>0</td>\n",
       "      <td>13.059816</td>\n",
       "      <td>77.770687</td>\n",
       "    </tr>\n",
       "    <tr>\n",
       "      <th>2</th>\n",
       "      <td>2023-01-07 14:55:00</td>\n",
       "      <td>FTG-002-XYZ-451</td>\n",
       "      <td>B-102</td>\n",
       "      <td>120</td>\n",
       "      <td>100</td>\n",
       "      <td>78</td>\n",
       "      <td>KA66CD5678</td>\n",
       "      <td>0</td>\n",
       "      <td>14</td>\n",
       "      <td>5</td>\n",
       "      <td>...</td>\n",
       "      <td>0</td>\n",
       "      <td>0</td>\n",
       "      <td>0</td>\n",
       "      <td>0</td>\n",
       "      <td>1</td>\n",
       "      <td>0</td>\n",
       "      <td>0</td>\n",
       "      <td>1</td>\n",
       "      <td>13.059816</td>\n",
       "      <td>77.770687</td>\n",
       "    </tr>\n",
       "    <tr>\n",
       "      <th>4</th>\n",
       "      <td>2023-01-09 02:05:00</td>\n",
       "      <td>FTG-044-LMN-322</td>\n",
       "      <td>C-103</td>\n",
       "      <td>350</td>\n",
       "      <td>120</td>\n",
       "      <td>92</td>\n",
       "      <td>KA11GH3456</td>\n",
       "      <td>0</td>\n",
       "      <td>2</td>\n",
       "      <td>0</td>\n",
       "      <td>...</td>\n",
       "      <td>0</td>\n",
       "      <td>1</td>\n",
       "      <td>0</td>\n",
       "      <td>0</td>\n",
       "      <td>1</td>\n",
       "      <td>1</td>\n",
       "      <td>0</td>\n",
       "      <td>0</td>\n",
       "      <td>13.059816</td>\n",
       "      <td>77.770687</td>\n",
       "    </tr>\n",
       "  </tbody>\n",
       "</table>\n",
       "<p>3 rows × 27 columns</p>\n",
       "</div>"
      ],
      "text/plain": [
       "                         Timestamp         FastagID TollBoothID  \\\n",
       "Transaction_ID                                                    \n",
       "1              2023-01-06 11:20:00  FTG-001-ABC-121       A-101   \n",
       "2              2023-01-07 14:55:00  FTG-002-XYZ-451       B-102   \n",
       "4              2023-01-09 02:05:00  FTG-044-LMN-322       C-103   \n",
       "\n",
       "                Transaction_Amount  Amount_paid  Vehicle_Speed  \\\n",
       "Transaction_ID                                                   \n",
       "1                              350          120             65   \n",
       "2                              120          100             78   \n",
       "4                              350          120             92   \n",
       "\n",
       "               Vehicle_Plate_Number  Fraud_indicator  Hour  Day  ...  \\\n",
       "Transaction_ID                                                   ...   \n",
       "1                        KA11AB1234                0    11    4  ...   \n",
       "2                        KA66CD5678                0    14    5  ...   \n",
       "4                        KA11GH3456                0     2    0  ...   \n",
       "\n",
       "                Vehicle_Type_Sedan  Vehicle_Type_Truck  Vehicle_Type_Van  \\\n",
       "Transaction_ID                                                             \n",
       "1                                0                   0                 0   \n",
       "2                                0                   0                 0   \n",
       "4                                0                   1                 0   \n",
       "\n",
       "                Lane_Type_Express  Lane_Type_Regular  \\\n",
       "Transaction_ID                                         \n",
       "1                               1                  0   \n",
       "2                               0                  1   \n",
       "4                               0                  1   \n",
       "\n",
       "                Vehicle_Dimensions_Large  Vehicle_Dimensions_Medium  \\\n",
       "Transaction_ID                                                        \n",
       "1                                      1                          0   \n",
       "2                                      0                          0   \n",
       "4                                      1                          0   \n",
       "\n",
       "                Vehicle_Dimensions_Small   Latitude  Longitude  \n",
       "Transaction_ID                                                  \n",
       "1                                      0  13.059816  77.770687  \n",
       "2                                      1  13.059816  77.770687  \n",
       "4                                      0  13.059816  77.770687  \n",
       "\n",
       "[3 rows x 27 columns]"
      ]
     },
     "execution_count": 23,
     "metadata": {},
     "output_type": "execute_result"
    }
   ],
   "source": [
    "df.head(3)"
   ]
  },
  {
   "cell_type": "code",
   "execution_count": 24,
   "id": "fc2a176d",
   "metadata": {},
   "outputs": [
    {
     "data": {
      "text/plain": [
       "1    3468\n",
       "0     983\n",
       "Name: Fraud_indicator, dtype: int64"
      ]
     },
     "execution_count": 24,
     "metadata": {},
     "output_type": "execute_result"
    }
   ],
   "source": [
    "df.Fraud_indicator.value_counts()"
   ]
  },
  {
   "cell_type": "code",
   "execution_count": 25,
   "id": "f577c61e",
   "metadata": {},
   "outputs": [
    {
     "name": "stderr",
     "output_type": "stream",
     "text": [
      "C:\\Users\\admin\\anaconda3\\lib\\site-packages\\seaborn\\_decorators.py:36: FutureWarning: Pass the following variable as a keyword arg: x. From version 0.12, the only valid positional argument will be `data`, and passing other arguments without an explicit keyword will result in an error or misinterpretation.\n",
      "  warnings.warn(\n"
     ]
    },
    {
     "data": {
      "text/plain": [
       "<AxesSubplot:xlabel='Fraud_indicator', ylabel='count'>"
      ]
     },
     "execution_count": 25,
     "metadata": {},
     "output_type": "execute_result"
    },
    {
     "data": {
      "image/png": "[encoded data removed]",
      "text/plain": [
       "<Figure size 432x288 with 1 Axes>"
      ]
     },
     "metadata": {
      "needs_background": "light"
     },
     "output_type": "display_data"
    }
   ],
   "source": [
    "sns.countplot(df['Fraud_indicator'])"
   ]
  },
  {
   "cell_type": "markdown",
   "id": "7440e028",
   "metadata": {},
   "source": [
    "# Splitting Dataset into Training and Testing Dataset"
   ]
  },
  {
   "cell_type": "code",
   "execution_count": 26,
   "id": "9089f292",
   "metadata": {},
   "outputs": [
    {
     "data": {
      "text/html": [
       "<div>\n",
       "<style scoped>\n",
       "    .dataframe tbody tr th:only-of-type {\n",
       "        vertical-align: middle;\n",
       "    }\n",
       "\n",
       "    .dataframe tbody tr th {\n",
       "        vertical-align: top;\n",
       "    }\n",
       "\n",
       "    .dataframe thead th {\n",
       "        text-align: right;\n",
       "    }\n",
       "</style>\n",
       "<table border=\"1\" class=\"dataframe\">\n",
       "  <thead>\n",
       "    <tr style=\"text-align: right;\">\n",
       "      <th></th>\n",
       "      <th>Transaction_Amount</th>\n",
       "      <th>Amount_paid</th>\n",
       "      <th>Vehicle_Speed</th>\n",
       "      <th>Hour</th>\n",
       "      <th>Day</th>\n",
       "      <th>Month</th>\n",
       "      <th>Amount_Difference</th>\n",
       "      <th>Payment_Ratio</th>\n",
       "      <th>Vehicle_Type_Bus</th>\n",
       "      <th>Vehicle_Type_Car</th>\n",
       "      <th>...</th>\n",
       "      <th>Vehicle_Type_Sedan</th>\n",
       "      <th>Vehicle_Type_Truck</th>\n",
       "      <th>Vehicle_Type_Van</th>\n",
       "      <th>Lane_Type_Express</th>\n",
       "      <th>Lane_Type_Regular</th>\n",
       "      <th>Vehicle_Dimensions_Large</th>\n",
       "      <th>Vehicle_Dimensions_Medium</th>\n",
       "      <th>Vehicle_Dimensions_Small</th>\n",
       "      <th>Latitude</th>\n",
       "      <th>Longitude</th>\n",
       "    </tr>\n",
       "    <tr>\n",
       "      <th>Transaction_ID</th>\n",
       "      <th></th>\n",
       "      <th></th>\n",
       "      <th></th>\n",
       "      <th></th>\n",
       "      <th></th>\n",
       "      <th></th>\n",
       "      <th></th>\n",
       "      <th></th>\n",
       "      <th></th>\n",
       "      <th></th>\n",
       "      <th></th>\n",
       "      <th></th>\n",
       "      <th></th>\n",
       "      <th></th>\n",
       "      <th></th>\n",
       "      <th></th>\n",
       "      <th></th>\n",
       "      <th></th>\n",
       "      <th></th>\n",
       "      <th></th>\n",
       "      <th></th>\n",
       "    </tr>\n",
       "  </thead>\n",
       "  <tbody>\n",
       "    <tr>\n",
       "      <th>1</th>\n",
       "      <td>350</td>\n",
       "      <td>120</td>\n",
       "      <td>65</td>\n",
       "      <td>11</td>\n",
       "      <td>4</td>\n",
       "      <td>1</td>\n",
       "      <td>230</td>\n",
       "      <td>0.342857</td>\n",
       "      <td>1</td>\n",
       "      <td>0</td>\n",
       "      <td>...</td>\n",
       "      <td>0</td>\n",
       "      <td>0</td>\n",
       "      <td>0</td>\n",
       "      <td>1</td>\n",
       "      <td>0</td>\n",
       "      <td>1</td>\n",
       "      <td>0</td>\n",
       "      <td>0</td>\n",
       "      <td>13.059816</td>\n",
       "      <td>77.770687</td>\n",
       "    </tr>\n",
       "    <tr>\n",
       "      <th>2</th>\n",
       "      <td>120</td>\n",
       "      <td>100</td>\n",
       "      <td>78</td>\n",
       "      <td>14</td>\n",
       "      <td>5</td>\n",
       "      <td>1</td>\n",
       "      <td>20</td>\n",
       "      <td>0.833333</td>\n",
       "      <td>0</td>\n",
       "      <td>1</td>\n",
       "      <td>...</td>\n",
       "      <td>0</td>\n",
       "      <td>0</td>\n",
       "      <td>0</td>\n",
       "      <td>0</td>\n",
       "      <td>1</td>\n",
       "      <td>0</td>\n",
       "      <td>0</td>\n",
       "      <td>1</td>\n",
       "      <td>13.059816</td>\n",
       "      <td>77.770687</td>\n",
       "    </tr>\n",
       "    <tr>\n",
       "      <th>4</th>\n",
       "      <td>350</td>\n",
       "      <td>120</td>\n",
       "      <td>92</td>\n",
       "      <td>2</td>\n",
       "      <td>0</td>\n",
       "      <td>1</td>\n",
       "      <td>230</td>\n",
       "      <td>0.342857</td>\n",
       "      <td>0</td>\n",
       "      <td>0</td>\n",
       "      <td>...</td>\n",
       "      <td>0</td>\n",
       "      <td>1</td>\n",
       "      <td>0</td>\n",
       "      <td>0</td>\n",
       "      <td>1</td>\n",
       "      <td>1</td>\n",
       "      <td>0</td>\n",
       "      <td>0</td>\n",
       "      <td>13.059816</td>\n",
       "      <td>77.770687</td>\n",
       "    </tr>\n",
       "    <tr>\n",
       "      <th>5</th>\n",
       "      <td>140</td>\n",
       "      <td>100</td>\n",
       "      <td>60</td>\n",
       "      <td>6</td>\n",
       "      <td>1</td>\n",
       "      <td>1</td>\n",
       "      <td>40</td>\n",
       "      <td>0.714286</td>\n",
       "      <td>0</td>\n",
       "      <td>0</td>\n",
       "      <td>...</td>\n",
       "      <td>0</td>\n",
       "      <td>0</td>\n",
       "      <td>1</td>\n",
       "      <td>1</td>\n",
       "      <td>0</td>\n",
       "      <td>0</td>\n",
       "      <td>1</td>\n",
       "      <td>0</td>\n",
       "      <td>13.059816</td>\n",
       "      <td>77.770687</td>\n",
       "    </tr>\n",
       "    <tr>\n",
       "      <th>6</th>\n",
       "      <td>160</td>\n",
       "      <td>100</td>\n",
       "      <td>105</td>\n",
       "      <td>10</td>\n",
       "      <td>2</td>\n",
       "      <td>1</td>\n",
       "      <td>60</td>\n",
       "      <td>0.625000</td>\n",
       "      <td>0</td>\n",
       "      <td>0</td>\n",
       "      <td>...</td>\n",
       "      <td>1</td>\n",
       "      <td>0</td>\n",
       "      <td>0</td>\n",
       "      <td>0</td>\n",
       "      <td>1</td>\n",
       "      <td>0</td>\n",
       "      <td>1</td>\n",
       "      <td>0</td>\n",
       "      <td>13.059816</td>\n",
       "      <td>77.770687</td>\n",
       "    </tr>\n",
       "    <tr>\n",
       "      <th>...</th>\n",
       "      <td>...</td>\n",
       "      <td>...</td>\n",
       "      <td>...</td>\n",
       "      <td>...</td>\n",
       "      <td>...</td>\n",
       "      <td>...</td>\n",
       "      <td>...</td>\n",
       "      <td>...</td>\n",
       "      <td>...</td>\n",
       "      <td>...</td>\n",
       "      <td>...</td>\n",
       "      <td>...</td>\n",
       "      <td>...</td>\n",
       "      <td>...</td>\n",
       "      <td>...</td>\n",
       "      <td>...</td>\n",
       "      <td>...</td>\n",
       "      <td>...</td>\n",
       "      <td>...</td>\n",
       "      <td>...</td>\n",
       "      <td>...</td>\n",
       "    </tr>\n",
       "    <tr>\n",
       "      <th>4996</th>\n",
       "      <td>330</td>\n",
       "      <td>330</td>\n",
       "      <td>81</td>\n",
       "      <td>22</td>\n",
       "      <td>6</td>\n",
       "      <td>1</td>\n",
       "      <td>0</td>\n",
       "      <td>1.000000</td>\n",
       "      <td>0</td>\n",
       "      <td>0</td>\n",
       "      <td>...</td>\n",
       "      <td>0</td>\n",
       "      <td>1</td>\n",
       "      <td>0</td>\n",
       "      <td>0</td>\n",
       "      <td>1</td>\n",
       "      <td>1</td>\n",
       "      <td>0</td>\n",
       "      <td>0</td>\n",
       "      <td>13.213316</td>\n",
       "      <td>77.554135</td>\n",
       "    </tr>\n",
       "    <tr>\n",
       "      <th>4997</th>\n",
       "      <td>125</td>\n",
       "      <td>125</td>\n",
       "      <td>64</td>\n",
       "      <td>13</td>\n",
       "      <td>1</td>\n",
       "      <td>1</td>\n",
       "      <td>0</td>\n",
       "      <td>1.000000</td>\n",
       "      <td>0</td>\n",
       "      <td>0</td>\n",
       "      <td>...</td>\n",
       "      <td>0</td>\n",
       "      <td>0</td>\n",
       "      <td>1</td>\n",
       "      <td>1</td>\n",
       "      <td>0</td>\n",
       "      <td>0</td>\n",
       "      <td>1</td>\n",
       "      <td>0</td>\n",
       "      <td>13.213316</td>\n",
       "      <td>77.554135</td>\n",
       "    </tr>\n",
       "    <tr>\n",
       "      <th>4998</th>\n",
       "      <td>115</td>\n",
       "      <td>115</td>\n",
       "      <td>93</td>\n",
       "      <td>5</td>\n",
       "      <td>6</td>\n",
       "      <td>2</td>\n",
       "      <td>0</td>\n",
       "      <td>1.000000</td>\n",
       "      <td>0</td>\n",
       "      <td>0</td>\n",
       "      <td>...</td>\n",
       "      <td>1</td>\n",
       "      <td>0</td>\n",
       "      <td>0</td>\n",
       "      <td>0</td>\n",
       "      <td>1</td>\n",
       "      <td>0</td>\n",
       "      <td>1</td>\n",
       "      <td>0</td>\n",
       "      <td>13.213316</td>\n",
       "      <td>77.554135</td>\n",
       "    </tr>\n",
       "    <tr>\n",
       "      <th>4999</th>\n",
       "      <td>145</td>\n",
       "      <td>145</td>\n",
       "      <td>57</td>\n",
       "      <td>20</td>\n",
       "      <td>0</td>\n",
       "      <td>2</td>\n",
       "      <td>0</td>\n",
       "      <td>1.000000</td>\n",
       "      <td>0</td>\n",
       "      <td>0</td>\n",
       "      <td>...</td>\n",
       "      <td>0</td>\n",
       "      <td>0</td>\n",
       "      <td>0</td>\n",
       "      <td>1</td>\n",
       "      <td>0</td>\n",
       "      <td>1</td>\n",
       "      <td>0</td>\n",
       "      <td>0</td>\n",
       "      <td>13.213316</td>\n",
       "      <td>77.554135</td>\n",
       "    </tr>\n",
       "    <tr>\n",
       "      <th>5000</th>\n",
       "      <td>330</td>\n",
       "      <td>125</td>\n",
       "      <td>86</td>\n",
       "      <td>0</td>\n",
       "      <td>4</td>\n",
       "      <td>3</td>\n",
       "      <td>205</td>\n",
       "      <td>0.378788</td>\n",
       "      <td>1</td>\n",
       "      <td>0</td>\n",
       "      <td>...</td>\n",
       "      <td>0</td>\n",
       "      <td>0</td>\n",
       "      <td>0</td>\n",
       "      <td>0</td>\n",
       "      <td>1</td>\n",
       "      <td>1</td>\n",
       "      <td>0</td>\n",
       "      <td>0</td>\n",
       "      <td>13.213316</td>\n",
       "      <td>77.554135</td>\n",
       "    </tr>\n",
       "  </tbody>\n",
       "</table>\n",
       "<p>4451 rows × 22 columns</p>\n",
       "</div>"
      ],
      "text/plain": [
       "                Transaction_Amount  Amount_paid  Vehicle_Speed  Hour  Day  \\\n",
       "Transaction_ID                                                              \n",
       "1                              350          120             65    11    4   \n",
       "2                              120          100             78    14    5   \n",
       "4                              350          120             92     2    0   \n",
       "5                              140          100             60     6    1   \n",
       "6                              160          100            105    10    2   \n",
       "...                            ...          ...            ...   ...  ...   \n",
       "4996                           330          330             81    22    6   \n",
       "4997                           125          125             64    13    1   \n",
       "4998                           115          115             93     5    6   \n",
       "4999                           145          145             57    20    0   \n",
       "5000                           330          125             86     0    4   \n",
       "\n",
       "                Month  Amount_Difference  Payment_Ratio  Vehicle_Type_Bus   \\\n",
       "Transaction_ID                                                               \n",
       "1                   1                230       0.342857                  1   \n",
       "2                   1                 20       0.833333                  0   \n",
       "4                   1                230       0.342857                  0   \n",
       "5                   1                 40       0.714286                  0   \n",
       "6                   1                 60       0.625000                  0   \n",
       "...               ...                ...            ...                ...   \n",
       "4996                1                  0       1.000000                  0   \n",
       "4997                1                  0       1.000000                  0   \n",
       "4998                2                  0       1.000000                  0   \n",
       "4999                2                  0       1.000000                  0   \n",
       "5000                3                205       0.378788                  1   \n",
       "\n",
       "                Vehicle_Type_Car  ...  Vehicle_Type_Sedan  Vehicle_Type_Truck  \\\n",
       "Transaction_ID                    ...                                           \n",
       "1                              0  ...                   0                   0   \n",
       "2                              1  ...                   0                   0   \n",
       "4                              0  ...                   0                   1   \n",
       "5                              0  ...                   0                   0   \n",
       "6                              0  ...                   1                   0   \n",
       "...                          ...  ...                 ...                 ...   \n",
       "4996                           0  ...                   0                   1   \n",
       "4997                           0  ...                   0                   0   \n",
       "4998                           0  ...                   1                   0   \n",
       "4999                           0  ...                   0                   0   \n",
       "5000                           0  ...                   0                   0   \n",
       "\n",
       "                Vehicle_Type_Van  Lane_Type_Express  Lane_Type_Regular  \\\n",
       "Transaction_ID                                                           \n",
       "1                              0                  1                  0   \n",
       "2                              0                  0                  1   \n",
       "4                              0                  0                  1   \n",
       "5                              1                  1                  0   \n",
       "6                              0                  0                  1   \n",
       "...                          ...                ...                ...   \n",
       "4996                           0                  0                  1   \n",
       "4997                           1                  1                  0   \n",
       "4998                           0                  0                  1   \n",
       "4999                           0                  1                  0   \n",
       "5000                           0                  0                  1   \n",
       "\n",
       "                Vehicle_Dimensions_Large  Vehicle_Dimensions_Medium  \\\n",
       "Transaction_ID                                                        \n",
       "1                                      1                          0   \n",
       "2                                      0                          0   \n",
       "4                                      1                          0   \n",
       "5                                      0                          1   \n",
       "6                                      0                          1   \n",
       "...                                  ...                        ...   \n",
       "4996                                   1                          0   \n",
       "4997                                   0                          1   \n",
       "4998                                   0                          1   \n",
       "4999                                   1                          0   \n",
       "5000                                   1                          0   \n",
       "\n",
       "                Vehicle_Dimensions_Small   Latitude  Longitude  \n",
       "Transaction_ID                                                  \n",
       "1                                      0  13.059816  77.770687  \n",
       "2                                      1  13.059816  77.770687  \n",
       "4                                      0  13.059816  77.770687  \n",
       "5                                      0  13.059816  77.770687  \n",
       "6                                      0  13.059816  77.770687  \n",
       "...                                  ...        ...        ...  \n",
       "4996                                   0  13.213316  77.554135  \n",
       "4997                                   0  13.213316  77.554135  \n",
       "4998                                   0  13.213316  77.554135  \n",
       "4999                                   0  13.213316  77.554135  \n",
       "5000                                   0  13.213316  77.554135  \n",
       "\n",
       "[4451 rows x 22 columns]"
      ]
     },
     "execution_count": 26,
     "metadata": {},
     "output_type": "execute_result"
    }
   ],
   "source": [
    "# Separate features and target variable\n",
    "X = df.drop(columns=['Fraud_indicator', 'Timestamp', 'FastagID', 'TollBoothID','Vehicle_Plate_Number'])\n",
    "X"
   ]
  },
  {
   "cell_type": "code",
   "execution_count": 27,
   "id": "5a80098d",
   "metadata": {},
   "outputs": [
    {
     "data": {
      "text/plain": [
       "Transaction_ID\n",
       "1       0\n",
       "2       0\n",
       "4       0\n",
       "5       0\n",
       "6       0\n",
       "       ..\n",
       "4996    1\n",
       "4997    1\n",
       "4998    1\n",
       "4999    1\n",
       "5000    0\n",
       "Name: Fraud_indicator, Length: 4451, dtype: int32"
      ]
     },
     "execution_count": 27,
     "metadata": {},
     "output_type": "execute_result"
    }
   ],
   "source": [
    "y = df['Fraud_indicator']\n",
    "y"
   ]
  },
  {
   "cell_type": "code",
   "execution_count": 28,
   "id": "7932148b",
   "metadata": {},
   "outputs": [
    {
     "name": "stdout",
     "output_type": "stream",
     "text": [
      "Top 5 Important Features:\n",
      "              Feature  Importance\n",
      "6   Amount_Difference    0.456503\n",
      "7       Payment_Ratio    0.391722\n",
      "1         Amount_paid    0.094905\n",
      "0  Transaction_Amount    0.016168\n",
      "9    Vehicle_Type_Car    0.008301\n"
     ]
    }
   ],
   "source": [
    "imputer = SimpleImputer(strategy='mean')\n",
    "\n",
    "# Fit the imputer on the features and transform the features\n",
    "X_imputed = imputer.fit_transform(X)\n",
    "\n",
    "rf_classifier = RandomForestClassifier()\n",
    "\n",
    "rf_classifier.fit(X_imputed, y)\n",
    "\n",
    "feature_importances = rf_classifier.feature_importances_\n",
    "\n",
    "feature_importance_df = pd.DataFrame({\n",
    "    'Feature': X.columns,\n",
    "    'Importance': feature_importances\n",
    "})\n",
    "\n",
    "# Sort the DataFrame by feature importance\n",
    "feature_importance_df = feature_importance_df.sort_values(by='Importance', ascending=False)\n",
    "\n",
    "# Print the top 5 important features\n",
    "top_n = 5\n",
    "print(f\"Top {top_n} Important Features:\")\n",
    "print(feature_importance_df.head(top_n))"
   ]
  },
  {
   "cell_type": "code",
   "execution_count": 29,
   "id": "ed7deb29",
   "metadata": {},
   "outputs": [
    {
     "data": {
      "image/png": "[encoded data removed]",
      "text/plain": [
       "<Figure size 720x288 with 1 Axes>"
      ]
     },
     "metadata": {
      "needs_background": "light"
     },
     "output_type": "display_data"
    }
   ],
   "source": [
    "plt.figure(figsize=(10, 4))\n",
    "plt.barh(feature_importance_df['Feature'], feature_importance_df['Importance'], color='skyblue')\n",
    "plt.xlabel('Importance')\n",
    "plt.ylabel('Feature')\n",
    "plt.title('Feature Importance')\n",
    "plt.gca().invert_yaxis()\n",
    "plt.show()"
   ]
  },
  {
   "cell_type": "code",
   "execution_count": 30,
   "id": "a84d465d",
   "metadata": {},
   "outputs": [
    {
     "name": "stdout",
     "output_type": "stream",
     "text": [
      "Mean Accuracy of stratified cross validation: 0.9836002976077882\n",
      "Classification Report:\n",
      "              precision    recall  f1-score   support\n",
      "\n",
      "           0       1.00      0.93      0.96       983\n",
      "           1       0.98      1.00      0.99      3468\n",
      "\n",
      "    accuracy                           0.98      4451\n",
      "   macro avg       0.99      0.96      0.98      4451\n",
      "weighted avg       0.98      0.98      0.98      4451\n",
      "\n"
     ]
    }
   ],
   "source": [
    "top_features = feature_importance_df.head(5)['Feature'].tolist()\n",
    "X_top_features = X[top_features]\n",
    "y = df['Fraud_indicator']\n",
    "\n",
    "# StratifiedKFold\n",
    "skf = StratifiedKFold(n_splits=5, shuffle=True, random_state=42)\n",
    "\n",
    "logistic_model = LogisticRegression()\n",
    "\n",
    "# Initialize lists to store evaluation metrics\n",
    "accuracies = []\n",
    "\n",
    "# Perform cross-validation\n",
    "for train_index, test_index in skf.split(X_top_features, y):\n",
    "    X_train, X_test = X_top_features.iloc[train_index], X_top_features.iloc[test_index]\n",
    "    y_train, y_test = y.iloc[train_index], y.iloc[test_index]\n",
    "\n",
    "    # Impute missing values\n",
    "    imputer = SimpleImputer(strategy='mean')\n",
    "    X_train_imputed = imputer.fit_transform(X_train)\n",
    "    X_test_imputed = imputer.transform(X_test)\n",
    "\n",
    "    # Fit the model\n",
    "    logistic_model.fit(X_train_imputed, y_train)\n",
    "\n",
    "    # Make predictions\n",
    "    y_pred = logistic_model.predict(X_test_imputed)\n",
    "\n",
    "    # Calculate accuracy and store it\n",
    "    accuracy = accuracy_score(y_test, y_pred)\n",
    "    accuracies.append(accuracy)\n",
    "\n",
    "# Calculate mean accuracy\n",
    "mean_accuracy = np.mean(accuracies)\n",
    "print(\"Mean Accuracy of stratified cross validation:\", mean_accuracy)\n",
    "\n",
    "# Display classification report using the entire dataset\n",
    "X_imputed = imputer.fit_transform(X_top_features)\n",
    "logistic_model.fit(X_imputed, y)\n",
    "y_pred = logistic_model.predict(X_imputed)\n",
    "print(\"Classification Report:\")\n",
    "print(classification_report(y, y_pred))"
   ]
  },
  {
   "cell_type": "code",
   "execution_count": 31,
   "id": "3a0b18fe",
   "metadata": {},
   "outputs": [
    {
     "data": {
      "image/png": "[encoded data removed]",
      "text/plain": [
       "<Figure size 576x288 with 1 Axes>"
      ]
     },
     "metadata": {
      "needs_background": "light"
     },
     "output_type": "display_data"
    }
   ],
   "source": [
    "# Calculate ROC curve and AUC\n",
    "fpr, tpr, _ = roc_curve(y, y_pred)\n",
    "roc_auc = auc(fpr, tpr)\n",
    "\n",
    "# Plot ROC curve\n",
    "plt.figure(figsize=(8, 4))\n",
    "plt.plot(fpr, tpr, color='b', label=f'ROC Curve (AUC = {roc_auc:.2f})')\n",
    "plt.plot([0, 1], [0, 1], color='r', linestyle='--')\n",
    "plt.xlabel('False Positive Rate')\n",
    "plt.ylabel('True Positive Rate')\n",
    "plt.title('ROC Curve')\n",
    "plt.legend()\n",
    "plt.show()"
   ]
  },
  {
   "cell_type": "code",
   "execution_count": 32,
   "id": "720bc4de",
   "metadata": {},
   "outputs": [
    {
     "data": {
      "image/png": "[encoded data removed]",
      "text/plain": [
       "<Figure size 576x288 with 1 Axes>"
      ]
     },
     "metadata": {
      "needs_background": "light"
     },
     "output_type": "display_data"
    }
   ],
   "source": [
    "# Calculate confusion matrix\n",
    "cm = confusion_matrix(y, y_pred)\n",
    "\n",
    "# Normalize confusion matrix\n",
    "cm_norm = cm / cm.sum(axis=1)[:, np.newaxis]  # Normalize along the true labels (rows)\n",
    "\n",
    "# Define class labels\n",
    "class_labels = ['Non-Fraudulent', 'Fraudulent']\n",
    "\n",
    "# Plot confusion matrix with probabilities\n",
    "plt.figure(figsize=(8, 4))\n",
    "sns.heatmap(cm_norm, annot=True, cmap='Blues', fmt='.2%', cbar=False, xticklabels=class_labels, yticklabels=class_labels)\n",
    "plt.xlabel('Predicted Label')\n",
    "plt.ylabel('True Label')\n",
    "plt.title('Confusion Matrix')\n",
    "plt.show()\n"
   ]
  },
  {
   "cell_type": "code",
   "execution_count": 33,
   "id": "f238e04d",
   "metadata": {},
   "outputs": [],
   "source": [
    "import joblib"
   ]
  },
  {
   "cell_type": "code",
   "execution_count": 34,
   "id": "b002d4dd",
   "metadata": {},
   "outputs": [
    {
     "data": {
      "text/plain": [
       "['Fastag_Fraud_Detection_Model']"
      ]
     },
     "execution_count": 34,
     "metadata": {},
     "output_type": "execute_result"
    }
   ],
   "source": [
    "import joblib\n",
    "joblib.dump(rf_classifier,'Fastag_Fraud_Detection_Model')"
   ]
  },
  {
   "cell_type": "code",
   "execution_count": 35,
   "id": "8d893443",
   "metadata": {},
   "outputs": [],
   "source": [
    "model=joblib.load('Fastag_Fraud_Detection_Model')"
   ]
  },
  {
   "cell_type": "code",
   "execution_count": 36,
   "id": "1649ca4c",
   "metadata": {},
   "outputs": [
    {
     "data": {
      "text/plain": [
       "Index(['Transaction_Amount', 'Amount_paid', 'Vehicle_Speed', 'Hour', 'Day',\n",
       "       'Month', 'Amount_Difference', 'Payment_Ratio', 'Vehicle_Type_Bus ',\n",
       "       'Vehicle_Type_Car', 'Vehicle_Type_Motorcycle', 'Vehicle_Type_SUV',\n",
       "       'Vehicle_Type_Sedan', 'Vehicle_Type_Truck', 'Vehicle_Type_Van',\n",
       "       'Lane_Type_Express', 'Lane_Type_Regular', 'Vehicle_Dimensions_Large',\n",
       "       'Vehicle_Dimensions_Medium', 'Vehicle_Dimensions_Small', 'Latitude',\n",
       "       'Longitude'],\n",
       "      dtype='object')"
      ]
     },
     "execution_count": 36,
     "metadata": {},
     "output_type": "execute_result"
    }
   ],
   "source": [
    "X.columns"
   ]
  },
  {
   "cell_type": "code",
   "execution_count": 37,
   "id": "ffe0d91a",
   "metadata": {},
   "outputs": [
    {
     "data": {
      "text/plain": [
       "array([0])"
      ]
     },
     "execution_count": 37,
     "metadata": {},
     "output_type": "execute_result"
    }
   ],
   "source": [
    "model.predict([[500,245,42,12,5,3,255,0.49,0,1,1,0,0,0,1,1,0,1,0,1,13.059816,77.770687]])"
   ]
  },
  {
   "cell_type": "code",
   "execution_count": 38,
   "id": "03658755",
   "metadata": {},
   "outputs": [],
   "source": [
    "#Not Fraud = 1\n",
    "#Fraud = 0"
   ]
  },
  {
   "cell_type": "code",
   "execution_count": null,
   "id": "4f0ac547",
   "metadata": {},
   "outputs": [],
   "source": []
  },
  {
   "cell_type": "code",
   "execution_count": null,
   "id": "cd428a8b",
   "metadata": {},
   "outputs": [],
   "source": []
  },
  {
   "cell_type": "code",
   "execution_count": null,
   "id": "65b9ec1a",
   "metadata": {},
   "outputs": [],
   "source": []
  },
  {
   "cell_type": "code",
   "execution_count": null,
   "id": "299ef6fe",
   "metadata": {},
   "outputs": [],
   "source": []
  },
  {
   "cell_type": "code",
   "execution_count": null,
   "id": "b4191fc1",
   "metadata": {},
   "outputs": [],
   "source": []
  },
  {
   "cell_type": "code",
   "execution_count": null,
   "id": "57479028",
   "metadata": {},
   "outputs": [],
   "source": []
  }
 ],
 "metadata": {
  "kernelspec": {
   "display_name": "Python 3 (ipykernel)",
   "language": "python",
   "name": "python3"
  },
  "language_info": {
   "codemirror_mode": {
    "name": "ipython",
    "version": 3
   },
   "file_extension": ".py",
   "mimetype": "text/x-python",
   "name": "python",
   "nbconvert_exporter": "python",
   "pygments_lexer": "ipython3",
   "version": "3.9.7"
  }
 },
 "nbformat": 4,
 "nbformat_minor": 5
}
